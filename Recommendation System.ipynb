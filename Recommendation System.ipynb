{
 "cells": [
  {
   "cell_type": "code",
   "execution_count": 1,
   "id": "52aaae6f-b7cb-4333-a152-70978aff6254",
   "metadata": {},
   "outputs": [],
   "source": [
    "import pandas as pd\n",
    "import numpy as np\n",
    "import matplotlib.pyplot as plt\n",
    "import seaborn as sns\n",
    "plt.rcParams['figure.figsize'] = (10,5)\n",
    "plt.rcParams['figure.dpi'] = 250\n",
    "import warnings\n",
    "warnings.filterwarnings('ignore')\n",
    "sns.set_theme(style='darkgrid', palette='viridis')\n",
    "%matplotlib inline"
   ]
  },
  {
   "cell_type": "markdown",
   "id": "4e9feb63-6c62-4d44-9285-7541247271d3",
   "metadata": {},
   "source": [
    "# Data Preprocessing:"
   ]
  },
  {
   "cell_type": "code",
   "execution_count": 3,
   "id": "96261fd5-fc5c-4016-98f1-1ef10d9c1cfb",
   "metadata": {},
   "outputs": [],
   "source": [
    "df = pd.read_csv(\"anime.csv\")\n"
   ]
  },
  {
   "cell_type": "code",
   "execution_count": 4,
   "id": "013adc5f-efc4-4bc1-bf06-e401488edf2d",
   "metadata": {},
   "outputs": [
    {
     "data": {
      "text/plain": [
       "anime_id      0\n",
       "name          0\n",
       "genre        62\n",
       "type         25\n",
       "episodes      0\n",
       "rating      230\n",
       "members       0\n",
       "dtype: int64"
      ]
     },
     "execution_count": 4,
     "metadata": {},
     "output_type": "execute_result"
    }
   ],
   "source": [
    "df.isnull().sum()"
   ]
  },
  {
   "cell_type": "code",
   "execution_count": 5,
   "id": "776eca3b-a43f-4f90-9dfe-c971ab99a9dd",
   "metadata": {},
   "outputs": [],
   "source": [
    "# Fill missing numerical values with mean\n",
    "df['rating'] = df['rating'].fillna(df['rating'].mean())\n"
   ]
  },
  {
   "cell_type": "code",
   "execution_count": 6,
   "id": "7118e602-0cd1-4bf0-acd4-c3a38bdcfdf7",
   "metadata": {},
   "outputs": [],
   "source": [
    "# Fill missing categorical values\n",
    "df['genre'] = df['genre'].fillna(\"Unknown\")"
   ]
  },
  {
   "cell_type": "code",
   "execution_count": 7,
   "id": "5b3ef63f-70d4-4381-9f6b-24c5cc917606",
   "metadata": {},
   "outputs": [],
   "source": [
    "df['episodes'] = df['episodes'].replace('Unknown', np.nan).astype(float)\n",
    "df['episodes'] = df['episodes'].fillna(df['episodes'].median())"
   ]
  },
  {
   "cell_type": "code",
   "execution_count": 8,
   "id": "eca35131-7da8-4dde-b95d-0cf735154a25",
   "metadata": {},
   "outputs": [
    {
     "data": {
      "text/html": [
       "<div>\n",
       "<style scoped>\n",
       "    .dataframe tbody tr th:only-of-type {\n",
       "        vertical-align: middle;\n",
       "    }\n",
       "\n",
       "    .dataframe tbody tr th {\n",
       "        vertical-align: top;\n",
       "    }\n",
       "\n",
       "    .dataframe thead th {\n",
       "        text-align: right;\n",
       "    }\n",
       "</style>\n",
       "<table border=\"1\" class=\"dataframe\">\n",
       "  <thead>\n",
       "    <tr style=\"text-align: right;\">\n",
       "      <th></th>\n",
       "      <th>anime_id</th>\n",
       "      <th>episodes</th>\n",
       "      <th>rating</th>\n",
       "      <th>members</th>\n",
       "    </tr>\n",
       "  </thead>\n",
       "  <tbody>\n",
       "    <tr>\n",
       "      <th>count</th>\n",
       "      <td>12294.000000</td>\n",
       "      <td>12294.000000</td>\n",
       "      <td>12294.000000</td>\n",
       "      <td>1.229400e+04</td>\n",
       "    </tr>\n",
       "    <tr>\n",
       "      <th>mean</th>\n",
       "      <td>14058.221653</td>\n",
       "      <td>12.095412</td>\n",
       "      <td>6.473902</td>\n",
       "      <td>1.807134e+04</td>\n",
       "    </tr>\n",
       "    <tr>\n",
       "      <th>std</th>\n",
       "      <td>11455.294701</td>\n",
       "      <td>46.244062</td>\n",
       "      <td>1.017096</td>\n",
       "      <td>5.482068e+04</td>\n",
       "    </tr>\n",
       "    <tr>\n",
       "      <th>min</th>\n",
       "      <td>1.000000</td>\n",
       "      <td>1.000000</td>\n",
       "      <td>1.670000</td>\n",
       "      <td>5.000000e+00</td>\n",
       "    </tr>\n",
       "    <tr>\n",
       "      <th>25%</th>\n",
       "      <td>3484.250000</td>\n",
       "      <td>1.000000</td>\n",
       "      <td>5.900000</td>\n",
       "      <td>2.250000e+02</td>\n",
       "    </tr>\n",
       "    <tr>\n",
       "      <th>50%</th>\n",
       "      <td>10260.500000</td>\n",
       "      <td>2.000000</td>\n",
       "      <td>6.550000</td>\n",
       "      <td>1.550000e+03</td>\n",
       "    </tr>\n",
       "    <tr>\n",
       "      <th>75%</th>\n",
       "      <td>24794.500000</td>\n",
       "      <td>12.000000</td>\n",
       "      <td>7.170000</td>\n",
       "      <td>9.437000e+03</td>\n",
       "    </tr>\n",
       "    <tr>\n",
       "      <th>max</th>\n",
       "      <td>34527.000000</td>\n",
       "      <td>1818.000000</td>\n",
       "      <td>10.000000</td>\n",
       "      <td>1.013917e+06</td>\n",
       "    </tr>\n",
       "  </tbody>\n",
       "</table>\n",
       "</div>"
      ],
      "text/plain": [
       "           anime_id      episodes        rating       members\n",
       "count  12294.000000  12294.000000  12294.000000  1.229400e+04\n",
       "mean   14058.221653     12.095412      6.473902  1.807134e+04\n",
       "std    11455.294701     46.244062      1.017096  5.482068e+04\n",
       "min        1.000000      1.000000      1.670000  5.000000e+00\n",
       "25%     3484.250000      1.000000      5.900000  2.250000e+02\n",
       "50%    10260.500000      2.000000      6.550000  1.550000e+03\n",
       "75%    24794.500000     12.000000      7.170000  9.437000e+03\n",
       "max    34527.000000   1818.000000     10.000000  1.013917e+06"
      ]
     },
     "execution_count": 8,
     "metadata": {},
     "output_type": "execute_result"
    }
   ],
   "source": [
    "df.describe()"
   ]
  },
  {
   "cell_type": "code",
   "execution_count": 9,
   "id": "acc55741-1004-43c1-bbf1-d5e19a0e59fa",
   "metadata": {},
   "outputs": [
    {
     "data": {
      "text/plain": [
       "(3265,\n",
       " array(['Drama, Romance, School, Supernatural',\n",
       "        'Action, Adventure, Drama, Fantasy, Magic, Military, Shounen',\n",
       "        'Action, Comedy, Historical, Parody, Samurai, Sci-Fi, Shounen',\n",
       "        ..., 'Hentai, Sports', 'Drama, Romance, School, Yuri',\n",
       "        'Hentai, Slice of Life'], dtype=object))"
      ]
     },
     "execution_count": 9,
     "metadata": {},
     "output_type": "execute_result"
    }
   ],
   "source": [
    "df['genre'].nunique(), df['genre'].unique()"
   ]
  },
  {
   "cell_type": "code",
   "execution_count": 10,
   "id": "6d5d0150-1663-406a-9d72-5cba74f0ad41",
   "metadata": {},
   "outputs": [
    {
     "data": {
      "text/html": [
       "<div>\n",
       "<style scoped>\n",
       "    .dataframe tbody tr th:only-of-type {\n",
       "        vertical-align: middle;\n",
       "    }\n",
       "\n",
       "    .dataframe tbody tr th {\n",
       "        vertical-align: top;\n",
       "    }\n",
       "\n",
       "    .dataframe thead th {\n",
       "        text-align: right;\n",
       "    }\n",
       "</style>\n",
       "<table border=\"1\" class=\"dataframe\">\n",
       "  <thead>\n",
       "    <tr style=\"text-align: right;\">\n",
       "      <th></th>\n",
       "      <th>anime_id</th>\n",
       "      <th>name</th>\n",
       "      <th>genre</th>\n",
       "      <th>type</th>\n",
       "      <th>episodes</th>\n",
       "      <th>rating</th>\n",
       "      <th>members</th>\n",
       "    </tr>\n",
       "  </thead>\n",
       "  <tbody>\n",
       "    <tr>\n",
       "      <th>10464</th>\n",
       "      <td>33662</td>\n",
       "      <td>Taka no Tsume 8: Yoshida-kun no X-Files</td>\n",
       "      <td>Comedy, Parody</td>\n",
       "      <td>Movie</td>\n",
       "      <td>1.0</td>\n",
       "      <td>10.00</td>\n",
       "      <td>13</td>\n",
       "    </tr>\n",
       "    <tr>\n",
       "      <th>10400</th>\n",
       "      <td>30120</td>\n",
       "      <td>Spoon-hime no Swing Kitchen</td>\n",
       "      <td>Adventure, Kids</td>\n",
       "      <td>TV</td>\n",
       "      <td>2.0</td>\n",
       "      <td>9.60</td>\n",
       "      <td>47</td>\n",
       "    </tr>\n",
       "    <tr>\n",
       "      <th>9595</th>\n",
       "      <td>23005</td>\n",
       "      <td>Mogura no Motoro</td>\n",
       "      <td>Slice of Life</td>\n",
       "      <td>Movie</td>\n",
       "      <td>1.0</td>\n",
       "      <td>9.50</td>\n",
       "      <td>62</td>\n",
       "    </tr>\n",
       "    <tr>\n",
       "      <th>0</th>\n",
       "      <td>32281</td>\n",
       "      <td>Kimi no Na wa.</td>\n",
       "      <td>Drama, Romance, School, Supernatural</td>\n",
       "      <td>Movie</td>\n",
       "      <td>1.0</td>\n",
       "      <td>9.37</td>\n",
       "      <td>200630</td>\n",
       "    </tr>\n",
       "    <tr>\n",
       "      <th>9078</th>\n",
       "      <td>33607</td>\n",
       "      <td>Kahei no Umi</td>\n",
       "      <td>Historical</td>\n",
       "      <td>Movie</td>\n",
       "      <td>1.0</td>\n",
       "      <td>9.33</td>\n",
       "      <td>44</td>\n",
       "    </tr>\n",
       "    <tr>\n",
       "      <th>1</th>\n",
       "      <td>5114</td>\n",
       "      <td>Fullmetal Alchemist: Brotherhood</td>\n",
       "      <td>Action, Adventure, Drama, Fantasy, Magic, Mili...</td>\n",
       "      <td>TV</td>\n",
       "      <td>64.0</td>\n",
       "      <td>9.26</td>\n",
       "      <td>793665</td>\n",
       "    </tr>\n",
       "    <tr>\n",
       "      <th>10786</th>\n",
       "      <td>26313</td>\n",
       "      <td>Yakusoku: Africa Mizu to Midori</td>\n",
       "      <td>Drama, Kids</td>\n",
       "      <td>OVA</td>\n",
       "      <td>1.0</td>\n",
       "      <td>9.25</td>\n",
       "      <td>53</td>\n",
       "    </tr>\n",
       "    <tr>\n",
       "      <th>2</th>\n",
       "      <td>28977</td>\n",
       "      <td>Gintama°</td>\n",
       "      <td>Action, Comedy, Historical, Parody, Samurai, S...</td>\n",
       "      <td>TV</td>\n",
       "      <td>51.0</td>\n",
       "      <td>9.25</td>\n",
       "      <td>114262</td>\n",
       "    </tr>\n",
       "    <tr>\n",
       "      <th>3</th>\n",
       "      <td>9253</td>\n",
       "      <td>Steins;Gate</td>\n",
       "      <td>Sci-Fi, Thriller</td>\n",
       "      <td>TV</td>\n",
       "      <td>24.0</td>\n",
       "      <td>9.17</td>\n",
       "      <td>673572</td>\n",
       "    </tr>\n",
       "    <tr>\n",
       "      <th>4</th>\n",
       "      <td>9969</td>\n",
       "      <td>Gintama&amp;#039;</td>\n",
       "      <td>Action, Comedy, Historical, Parody, Samurai, S...</td>\n",
       "      <td>TV</td>\n",
       "      <td>51.0</td>\n",
       "      <td>9.16</td>\n",
       "      <td>151266</td>\n",
       "    </tr>\n",
       "  </tbody>\n",
       "</table>\n",
       "</div>"
      ],
      "text/plain": [
       "       anime_id                                     name  \\\n",
       "10464     33662  Taka no Tsume 8: Yoshida-kun no X-Files   \n",
       "10400     30120              Spoon-hime no Swing Kitchen   \n",
       "9595      23005                         Mogura no Motoro   \n",
       "0         32281                           Kimi no Na wa.   \n",
       "9078      33607                             Kahei no Umi   \n",
       "1          5114         Fullmetal Alchemist: Brotherhood   \n",
       "10786     26313          Yakusoku: Africa Mizu to Midori   \n",
       "2         28977                                 Gintama°   \n",
       "3          9253                              Steins;Gate   \n",
       "4          9969                            Gintama&#039;   \n",
       "\n",
       "                                                   genre   type  episodes  \\\n",
       "10464                                     Comedy, Parody  Movie       1.0   \n",
       "10400                                    Adventure, Kids     TV       2.0   \n",
       "9595                                       Slice of Life  Movie       1.0   \n",
       "0                   Drama, Romance, School, Supernatural  Movie       1.0   \n",
       "9078                                          Historical  Movie       1.0   \n",
       "1      Action, Adventure, Drama, Fantasy, Magic, Mili...     TV      64.0   \n",
       "10786                                        Drama, Kids    OVA       1.0   \n",
       "2      Action, Comedy, Historical, Parody, Samurai, S...     TV      51.0   \n",
       "3                                       Sci-Fi, Thriller     TV      24.0   \n",
       "4      Action, Comedy, Historical, Parody, Samurai, S...     TV      51.0   \n",
       "\n",
       "       rating  members  \n",
       "10464   10.00       13  \n",
       "10400    9.60       47  \n",
       "9595     9.50       62  \n",
       "0        9.37   200630  \n",
       "9078     9.33       44  \n",
       "1        9.26   793665  \n",
       "10786    9.25       53  \n",
       "2        9.25   114262  \n",
       "3        9.17   673572  \n",
       "4        9.16   151266  "
      ]
     },
     "execution_count": 10,
     "metadata": {},
     "output_type": "execute_result"
    }
   ],
   "source": [
    "# popular anime by rating \n",
    "df.sort_values(by=\"rating\", ascending=False).head(10)"
   ]
  },
  {
   "cell_type": "code",
   "execution_count": 11,
   "id": "86c8e3a2-b497-430f-953b-a7fd1525f77c",
   "metadata": {},
   "outputs": [
    {
     "name": "stdout",
     "output_type": "stream",
     "text": [
      "Unique Anime Types: ['Movie' 'TV' 'OVA' 'Special' 'Music' 'ONA' nan]\n",
      "Unique Genres: ['Drama, Romance, School, Supernatural'\n",
      " 'Action, Adventure, Drama, Fantasy, Magic, Military, Shounen'\n",
      " 'Action, Comedy, Historical, Parody, Samurai, Sci-Fi, Shounen' ...\n",
      " 'Hentai, Sports' 'Drama, Romance, School, Yuri' 'Hentai, Slice of Life']\n"
     ]
    },
    {
     "data": {
      "image/png": "[encoded data removed]",
      "text/plain": [
       "<Figure size 2500x1250 with 1 Axes>"
      ]
     },
     "metadata": {},
     "output_type": "display_data"
    }
   ],
   "source": [
    "# Unique values in categorical columns (example: genre, type)\n",
    "print(\"Unique Anime Types:\", df['type'].unique())\n",
    "print(\"Unique Genres:\", df['genre'].unique())\n",
    "\n",
    "# Distribution of numerical column (example: rating)\n",
    "df['rating'].hist(bins=20)\n",
    "plt.show()"
   ]
  },
  {
   "cell_type": "markdown",
   "id": "ae317667-eafa-4c22-961d-02825d8b7d20",
   "metadata": {},
   "source": [
    "# Feature Extraction:"
   ]
  },
  {
   "cell_type": "markdown",
   "id": "3475378c-d41a-4cd1-bdfb-e5b9385c3ebd",
   "metadata": {},
   "source": [
    "- focus on genre for main similarity but it can combine rating and episodes for good accuracy."
   ]
  },
  {
   "cell_type": "code",
   "execution_count": 12,
   "id": "0183eff2-9419-4217-ac60-d8fd40965d71",
   "metadata": {},
   "outputs": [],
   "source": [
    "from sklearn.preprocessing import MultiLabelBinarizer"
   ]
  },
  {
   "cell_type": "code",
   "execution_count": 13,
   "id": "1a36b7d5-fa4a-4c7f-a399-617fc10565ca",
   "metadata": {},
   "outputs": [],
   "source": [
    "# Split genre string into list\n",
    "df['genre'] = df['genre'].fillna('Unknown')   # handle NaN\n",
    "df['genre'] = df['genre'].apply(lambda x: x.split(', ') if isinstance(x, str) else [])\n"
   ]
  },
  {
   "cell_type": "code",
   "execution_count": 14,
   "id": "0d9bf518-279e-478c-9f1b-28cb73d2e36f",
   "metadata": {},
   "outputs": [],
   "source": [
    "# One-hot encode genres\n",
    "mlb = MultiLabelBinarizer()\n",
    "genre_encoded = mlb.fit_transform(df['genre'])"
   ]
  },
  {
   "cell_type": "code",
   "execution_count": 15,
   "id": "4e2964cf-98ea-49d5-a5f1-42031a11aeec",
   "metadata": {},
   "outputs": [],
   "source": [
    "# Convert to DataFrame\n",
    "genre_df = pd.DataFrame(genre_encoded, columns=mlb.classes_, index=df.index)\n"
   ]
  },
  {
   "cell_type": "code",
   "execution_count": 16,
   "id": "4606249e-7230-42d0-a21f-2a888d92a02a",
   "metadata": {},
   "outputs": [],
   "source": [
    "df_features = pd.concat([df, genre_df], axis=1)"
   ]
  },
  {
   "cell_type": "code",
   "execution_count": 17,
   "id": "da9966d3-8243-4cb2-888d-ac3a138ab478",
   "metadata": {},
   "outputs": [],
   "source": [
    "from sklearn.preprocessing import LabelEncoder\n",
    "\n",
    "# Encode 'type' (TV, Movie, OVA, etc.)\n",
    "df['type'] = df['type'].fillna(\"Unknown\")\n",
    "le = LabelEncoder()\n",
    "df['type_encoded'] = le.fit_transform(df['type'])\n",
    "\n",
    "# Fill missing numerical values\n",
    "df['rating'] = df['rating'].fillna(df['rating'].mean())\n",
    "df['episodes'] = pd.to_numeric(df['episodes'], errors='coerce').fillna(df['episodes'].median())\n",
    "df['members'] = df['members'].fillna(df['members'].median())\n"
   ]
  },
  {
   "cell_type": "code",
   "execution_count": 18,
   "id": "94640896-68b3-4dc1-af52-99af8a0da39c",
   "metadata": {},
   "outputs": [],
   "source": [
    "from sklearn.preprocessing import MinMaxScaler\n",
    "\n",
    "scaler = MinMaxScaler()\n",
    "df[['rating_norm', 'episodes_norm', 'members_norm']] = scaler.fit_transform(df[['rating', 'episodes', 'members']])\n"
   ]
  },
  {
   "cell_type": "code",
   "execution_count": 19,
   "id": "55839ee7-902b-4821-a0cd-c356a5094f86",
   "metadata": {},
   "outputs": [
    {
     "data": {
      "text/html": [
       "<div>\n",
       "<style scoped>\n",
       "    .dataframe tbody tr th:only-of-type {\n",
       "        vertical-align: middle;\n",
       "    }\n",
       "\n",
       "    .dataframe tbody tr th {\n",
       "        vertical-align: top;\n",
       "    }\n",
       "\n",
       "    .dataframe thead th {\n",
       "        text-align: right;\n",
       "    }\n",
       "</style>\n",
       "<table border=\"1\" class=\"dataframe\">\n",
       "  <thead>\n",
       "    <tr style=\"text-align: right;\">\n",
       "      <th></th>\n",
       "      <th>rating_norm</th>\n",
       "      <th>episodes_norm</th>\n",
       "      <th>members_norm</th>\n",
       "      <th>type_encoded</th>\n",
       "      <th>Action</th>\n",
       "      <th>Adventure</th>\n",
       "      <th>Cars</th>\n",
       "      <th>Comedy</th>\n",
       "      <th>Dementia</th>\n",
       "      <th>Demons</th>\n",
       "      <th>...</th>\n",
       "      <th>Slice of Life</th>\n",
       "      <th>Space</th>\n",
       "      <th>Sports</th>\n",
       "      <th>Super Power</th>\n",
       "      <th>Supernatural</th>\n",
       "      <th>Thriller</th>\n",
       "      <th>Unknown</th>\n",
       "      <th>Vampire</th>\n",
       "      <th>Yaoi</th>\n",
       "      <th>Yuri</th>\n",
       "    </tr>\n",
       "  </thead>\n",
       "  <tbody>\n",
       "    <tr>\n",
       "      <th>0</th>\n",
       "      <td>0.924370</td>\n",
       "      <td>0.000000</td>\n",
       "      <td>0.197872</td>\n",
       "      <td>0</td>\n",
       "      <td>0</td>\n",
       "      <td>0</td>\n",
       "      <td>0</td>\n",
       "      <td>0</td>\n",
       "      <td>0</td>\n",
       "      <td>0</td>\n",
       "      <td>...</td>\n",
       "      <td>0</td>\n",
       "      <td>0</td>\n",
       "      <td>0</td>\n",
       "      <td>0</td>\n",
       "      <td>1</td>\n",
       "      <td>0</td>\n",
       "      <td>0</td>\n",
       "      <td>0</td>\n",
       "      <td>0</td>\n",
       "      <td>0</td>\n",
       "    </tr>\n",
       "    <tr>\n",
       "      <th>1</th>\n",
       "      <td>0.911164</td>\n",
       "      <td>0.034673</td>\n",
       "      <td>0.782770</td>\n",
       "      <td>5</td>\n",
       "      <td>1</td>\n",
       "      <td>1</td>\n",
       "      <td>0</td>\n",
       "      <td>0</td>\n",
       "      <td>0</td>\n",
       "      <td>0</td>\n",
       "      <td>...</td>\n",
       "      <td>0</td>\n",
       "      <td>0</td>\n",
       "      <td>0</td>\n",
       "      <td>0</td>\n",
       "      <td>0</td>\n",
       "      <td>0</td>\n",
       "      <td>0</td>\n",
       "      <td>0</td>\n",
       "      <td>0</td>\n",
       "      <td>0</td>\n",
       "    </tr>\n",
       "    <tr>\n",
       "      <th>2</th>\n",
       "      <td>0.909964</td>\n",
       "      <td>0.027518</td>\n",
       "      <td>0.112689</td>\n",
       "      <td>5</td>\n",
       "      <td>1</td>\n",
       "      <td>0</td>\n",
       "      <td>0</td>\n",
       "      <td>1</td>\n",
       "      <td>0</td>\n",
       "      <td>0</td>\n",
       "      <td>...</td>\n",
       "      <td>0</td>\n",
       "      <td>0</td>\n",
       "      <td>0</td>\n",
       "      <td>0</td>\n",
       "      <td>0</td>\n",
       "      <td>0</td>\n",
       "      <td>0</td>\n",
       "      <td>0</td>\n",
       "      <td>0</td>\n",
       "      <td>0</td>\n",
       "    </tr>\n",
       "    <tr>\n",
       "      <th>3</th>\n",
       "      <td>0.900360</td>\n",
       "      <td>0.012658</td>\n",
       "      <td>0.664325</td>\n",
       "      <td>5</td>\n",
       "      <td>0</td>\n",
       "      <td>0</td>\n",
       "      <td>0</td>\n",
       "      <td>0</td>\n",
       "      <td>0</td>\n",
       "      <td>0</td>\n",
       "      <td>...</td>\n",
       "      <td>0</td>\n",
       "      <td>0</td>\n",
       "      <td>0</td>\n",
       "      <td>0</td>\n",
       "      <td>0</td>\n",
       "      <td>1</td>\n",
       "      <td>0</td>\n",
       "      <td>0</td>\n",
       "      <td>0</td>\n",
       "      <td>0</td>\n",
       "    </tr>\n",
       "    <tr>\n",
       "      <th>4</th>\n",
       "      <td>0.899160</td>\n",
       "      <td>0.027518</td>\n",
       "      <td>0.149186</td>\n",
       "      <td>5</td>\n",
       "      <td>1</td>\n",
       "      <td>0</td>\n",
       "      <td>0</td>\n",
       "      <td>1</td>\n",
       "      <td>0</td>\n",
       "      <td>0</td>\n",
       "      <td>...</td>\n",
       "      <td>0</td>\n",
       "      <td>0</td>\n",
       "      <td>0</td>\n",
       "      <td>0</td>\n",
       "      <td>0</td>\n",
       "      <td>0</td>\n",
       "      <td>0</td>\n",
       "      <td>0</td>\n",
       "      <td>0</td>\n",
       "      <td>0</td>\n",
       "    </tr>\n",
       "  </tbody>\n",
       "</table>\n",
       "<p>5 rows × 48 columns</p>\n",
       "</div>"
      ],
      "text/plain": [
       "   rating_norm  episodes_norm  members_norm  type_encoded  Action  Adventure  \\\n",
       "0     0.924370       0.000000      0.197872             0       0          0   \n",
       "1     0.911164       0.034673      0.782770             5       1          1   \n",
       "2     0.909964       0.027518      0.112689             5       1          0   \n",
       "3     0.900360       0.012658      0.664325             5       0          0   \n",
       "4     0.899160       0.027518      0.149186             5       1          0   \n",
       "\n",
       "   Cars  Comedy  Dementia  Demons  ...  Slice of Life  Space  Sports  \\\n",
       "0     0       0         0       0  ...              0      0       0   \n",
       "1     0       0         0       0  ...              0      0       0   \n",
       "2     0       1         0       0  ...              0      0       0   \n",
       "3     0       0         0       0  ...              0      0       0   \n",
       "4     0       1         0       0  ...              0      0       0   \n",
       "\n",
       "   Super Power  Supernatural  Thriller  Unknown  Vampire  Yaoi  Yuri  \n",
       "0            0             1         0        0        0     0     0  \n",
       "1            0             0         0        0        0     0     0  \n",
       "2            0             0         0        0        0     0     0  \n",
       "3            0             0         1        0        0     0     0  \n",
       "4            0             0         0        0        0     0     0  \n",
       "\n",
       "[5 rows x 48 columns]"
      ]
     },
     "execution_count": 19,
     "metadata": {},
     "output_type": "execute_result"
    }
   ],
   "source": [
    "# Select features for similarity\n",
    "feature_matrix = pd.concat([\n",
    "    df[['rating_norm', 'episodes_norm', 'members_norm', 'type_encoded']],\n",
    "    genre_df\n",
    "], axis=1)\n",
    "\n",
    "feature_matrix.head()\n"
   ]
  },
  {
   "cell_type": "code",
   "execution_count": null,
   "id": "7748362b-1cd9-4497-a549-3fa00171f200",
   "metadata": {},
   "outputs": [],
   "source": []
  },
  {
   "cell_type": "markdown",
   "id": "ab0b1081-e797-4448-a966-7955aa2c4dd8",
   "metadata": {},
   "source": [
    "# Recommendation System:"
   ]
  },
  {
   "cell_type": "code",
   "execution_count": 20,
   "id": "2100e358-27dd-4c9e-ae6c-17c619309bbd",
   "metadata": {},
   "outputs": [],
   "source": [
    "from sklearn.metrics.pairwise import cosine_similarity\n",
    "import numpy as np\n"
   ]
  },
  {
   "cell_type": "code",
   "execution_count": 21,
   "id": "914aef10-90fc-4eb9-971e-e035d2f35f33",
   "metadata": {},
   "outputs": [
    {
     "data": {
      "text/plain": [
       "array([[1.        , 0.15611114, 0.06810932, ..., 0.0505523 , 0.05210163,\n",
       "        0.17306034],\n",
       "       [0.15611114, 1.        , 0.84239795, ..., 0.83326925, 0.83347238,\n",
       "        0.06526592],\n",
       "       [0.06810932, 0.84239795, 1.        , ..., 0.84084626, 0.84105271,\n",
       "        0.0657609 ],\n",
       "       ...,\n",
       "       [0.0505523 , 0.83326925, 0.84084626, ..., 1.        , 0.99999288,\n",
       "        0.33581756],\n",
       "       [0.05210163, 0.83347238, 0.84105271, ..., 0.99999288, 1.        ,\n",
       "        0.33722213],\n",
       "       [0.17306034, 0.06526592, 0.0657609 , ..., 0.33581756, 0.33722213,\n",
       "        1.        ]])"
      ]
     },
     "execution_count": 21,
     "metadata": {},
     "output_type": "execute_result"
    }
   ],
   "source": [
    "# Compute cosine similarity between all anime\n",
    "cosine_sim = cosine_similarity(feature_matrix, feature_matrix)\n",
    "cosine_sim"
   ]
  },
  {
   "cell_type": "code",
   "execution_count": 22,
   "id": "8762a411-d9b0-49ca-99ff-6025bc21fc47",
   "metadata": {},
   "outputs": [],
   "source": [
    "def recommend_anime(title, df, similarity_matrix, top_n=10, threshold=0.3):\n",
    "    # Check if title exists\n",
    "    if title not in df['name'].values:\n",
    "        return f\"Anime '{title}' not found in dataset.\"\n",
    "    \n",
    "    # Get index of the anime\n",
    "    idx = df[df['name'] == title].index[0]\n",
    "    \n",
    "    # Get similarity scores for this anime\n",
    "    sim_scores = list(enumerate(similarity_matrix[idx]))\n",
    "    \n",
    "    # Sort by similarity (highest first)\n",
    "    sim_scores = sorted(sim_scores, key=lambda x: x[1], reverse=True)\n",
    "    \n",
    "    # Remove the anime itself (index 0)\n",
    "    sim_scores = sim_scores[1:]\n",
    "    \n",
    "    # Apply threshold\n",
    "    sim_scores = [s for s in sim_scores if s[1] >= threshold]\n",
    "    \n",
    "    # Select top_n recommendations\n",
    "    sim_scores = sim_scores[:top_n]\n",
    "    \n",
    "    # Get anime names\n",
    "    anime_indices = [i[0] for i in sim_scores]\n",
    "    recommendations = df.iloc[anime_indices][['name', 'type', 'rating']].copy()\n",
    "    recommendations['similarity_score'] = [i[1] for i in sim_scores]\n",
    "    \n",
    "    return recommendations\n",
    "    "
   ]
  },
  {
   "cell_type": "raw",
   "id": "6b7d0f91-b74d-41a1-8914-88bb5f6a993c",
   "metadata": {},
   "source": [
    "higher threshold - fewer or similar anime\n",
    "lower threshold - more recommendation"
   ]
  },
  {
   "cell_type": "code",
   "execution_count": 23,
   "id": "c9084078-c86a-4e3e-ac0b-bca78a89df8d",
   "metadata": {},
   "outputs": [
    {
     "data": {
      "text/html": [
       "<div>\n",
       "<style scoped>\n",
       "    .dataframe tbody tr th:only-of-type {\n",
       "        vertical-align: middle;\n",
       "    }\n",
       "\n",
       "    .dataframe tbody tr th {\n",
       "        vertical-align: top;\n",
       "    }\n",
       "\n",
       "    .dataframe thead th {\n",
       "        text-align: right;\n",
       "    }\n",
       "</style>\n",
       "<table border=\"1\" class=\"dataframe\">\n",
       "  <thead>\n",
       "    <tr style=\"text-align: right;\">\n",
       "      <th></th>\n",
       "      <th>name</th>\n",
       "      <th>type</th>\n",
       "      <th>rating</th>\n",
       "      <th>similarity_score</th>\n",
       "    </tr>\n",
       "  </thead>\n",
       "  <tbody>\n",
       "    <tr>\n",
       "      <th>615</th>\n",
       "      <td>Naruto: Shippuuden</td>\n",
       "      <td>TV</td>\n",
       "      <td>7.94</td>\n",
       "      <td>0.999415</td>\n",
       "    </tr>\n",
       "    <tr>\n",
       "      <th>2458</th>\n",
       "      <td>Naruto Shippuuden: Sunny Side Battle</td>\n",
       "      <td>Special</td>\n",
       "      <td>7.26</td>\n",
       "      <td>0.988809</td>\n",
       "    </tr>\n",
       "    <tr>\n",
       "      <th>1103</th>\n",
       "      <td>Boruto: Naruto the Movie - Naruto ga Hokage ni...</td>\n",
       "      <td>Special</td>\n",
       "      <td>7.68</td>\n",
       "      <td>0.988730</td>\n",
       "    </tr>\n",
       "    <tr>\n",
       "      <th>175</th>\n",
       "      <td>Katekyo Hitman Reborn!</td>\n",
       "      <td>TV</td>\n",
       "      <td>8.37</td>\n",
       "      <td>0.980784</td>\n",
       "    </tr>\n",
       "    <tr>\n",
       "      <th>7628</th>\n",
       "      <td>Kyutai Panic Adventure!</td>\n",
       "      <td>Special</td>\n",
       "      <td>5.21</td>\n",
       "      <td>0.971895</td>\n",
       "    </tr>\n",
       "  </tbody>\n",
       "</table>\n",
       "</div>"
      ],
      "text/plain": [
       "                                                   name     type  rating  \\\n",
       "615                                  Naruto: Shippuuden       TV    7.94   \n",
       "2458               Naruto Shippuuden: Sunny Side Battle  Special    7.26   \n",
       "1103  Boruto: Naruto the Movie - Naruto ga Hokage ni...  Special    7.68   \n",
       "175                              Katekyo Hitman Reborn!       TV    8.37   \n",
       "7628                            Kyutai Panic Adventure!  Special    5.21   \n",
       "\n",
       "      similarity_score  \n",
       "615           0.999415  \n",
       "2458          0.988809  \n",
       "1103          0.988730  \n",
       "175           0.980784  \n",
       "7628          0.971895  "
      ]
     },
     "execution_count": 23,
     "metadata": {},
     "output_type": "execute_result"
    }
   ],
   "source": [
    "recommendations = recommend_anime(\"Naruto\", df, cosine_sim, top_n=5, threshold=0.4)\n",
    "recommendations"
   ]
  },
  {
   "cell_type": "markdown",
   "id": "6f6eeafb-f729-437e-86b0-3b23118406e5",
   "metadata": {},
   "source": [
    "# Evaluation"
   ]
  },
  {
   "cell_type": "code",
   "execution_count": 24,
   "id": "18d8fcf0-8106-4bd4-be25-04a6fd5dbecc",
   "metadata": {},
   "outputs": [],
   "source": [
    "from sklearn.model_selection import train_test_split\n",
    "\n",
    "# Split dataset (80% train, 20% test)\n",
    "train_df, test_df = train_test_split(df, test_size=0.2, random_state=42)\n"
   ]
  },
  {
   "cell_type": "code",
   "execution_count": 25,
   "id": "54b1a9b8-6397-432e-9cda-35cfb7f6eff3",
   "metadata": {},
   "outputs": [
    {
     "data": {
      "text/plain": [
       "(9835, 11)"
      ]
     },
     "execution_count": 25,
     "metadata": {},
     "output_type": "execute_result"
    }
   ],
   "source": [
    "train_df.shape"
   ]
  },
  {
   "cell_type": "code",
   "execution_count": 26,
   "id": "e8ed3677-2700-48b2-861e-d5e43a0adc64",
   "metadata": {},
   "outputs": [
    {
     "data": {
      "text/plain": [
       "(2459, 11)"
      ]
     },
     "execution_count": 26,
     "metadata": {},
     "output_type": "execute_result"
    }
   ],
   "source": [
    "test_df.shape"
   ]
  },
  {
   "cell_type": "code",
   "execution_count": 27,
   "id": "4359c90b-315f-4ab8-82c4-80499033b7d1",
   "metadata": {},
   "outputs": [],
   "source": [
    "from sklearn.metrics import precision_score, recall_score, f1_score\n",
    "\n",
    "def evaluate_recommender(test_df, df, similarity_matrix, top_n=10, threshold=0.3):\n",
    "    precisions, recalls, f1s = [], [], []\n",
    "    \n",
    "    for title in test_df['name'].sample(100, random_state=42):  # sample 100 for evaluation\n",
    "        recs = recommend_anime(title, df, similarity_matrix, top_n=top_n, threshold=threshold)\n",
    "        \n",
    "        if isinstance(recs, str):  # if anime not found\n",
    "            continue\n",
    "        \n",
    "        # Get target genres\n",
    "        target_genres = set(df[df['name'] == title]['genre'].values[0])\n",
    "        \n",
    "        # Compute relevance: 1 if recommended anime shares any genre\n",
    "        y_true = []\n",
    "        y_pred = []\n",
    "        \n",
    "        for _, row in recs.iterrows():\n",
    "            rec_genres = set(df[df['name'] == row['name']]['genre'].values[0])\n",
    "            relevant = 1 if len(target_genres.intersection(rec_genres)) > 0 else 0\n",
    "            y_true.append(1)  # all recommendations are candidates\n",
    "            y_pred.append(relevant)\n",
    "        \n",
    "        # Precision, Recall, F1\n",
    "        if sum(y_pred) > 0:\n",
    "            precisions.append(precision_score(y_true, y_pred))\n",
    "            recalls.append(recall_score(y_true, y_pred))\n",
    "            f1s.append(f1_score(y_true, y_pred))\n",
    "    \n",
    "    return {\n",
    "        \"Precision\": np.mean(precisions),\n",
    "        \"Recall\": np.mean(recalls),\n",
    "        \"F1-score\": np.mean(f1s)\n",
    "    }\n"
   ]
  },
  {
   "cell_type": "code",
   "execution_count": 28,
   "id": "03daef09-f9b4-4c35-ad3b-73c2b72b6d7b",
   "metadata": {},
   "outputs": [
    {
     "name": "stdout",
     "output_type": "stream",
     "text": [
      "{'Precision': 1.0, 'Recall': 1.0, 'F1-score': 1.0}\n"
     ]
    }
   ],
   "source": [
    "metrics = evaluate_recommender(test_df, df, cosine_sim, top_n=10, threshold=0.3)\n",
    "print(metrics)\n"
   ]
  },
  {
   "cell_type": "markdown",
   "id": "bd290bb2-43e9-48f9-8fed-ab023edcbc86",
   "metadata": {},
   "source": [
    "- From above ,getting same value because genere representation issue and if not remove anime from recommdation it always perfectly match"
   ]
  },
  {
   "cell_type": "markdown",
   "id": "961d1633-db20-4f69-b072-0f3b733afe19",
   "metadata": {},
   "source": [
    "# Interview Questions:\n"
   ]
  },
  {
   "cell_type": "markdown",
   "id": "87b3bfd9-14a0-4b6d-93f7-9843bc728340",
   "metadata": {},
   "source": [
    "##  Q1. Can you explain the difference between user-based and item-based collaborative filtering?\n",
    "\n",
    "## Difference Between User-Based and Item-Based Collaborative Filtering\n",
    "\n",
    "### 1. **User-Based Collaborative Filtering**\n",
    "- **Idea**: Find users who are similar to the target user (based on their past ratings or preferences) and recommend items that those similar users liked.\n",
    "- **Example**: \n",
    "    - If User A and User B have watched and liked many of the same anime, \n",
    "      and User B liked \"Naruto\", then recommend \"Naruto\" to User A.\n",
    "- **Pros**:\n",
    "    - Easy to understand and implement.\n",
    "- **Cons**:\n",
    "    - Struggles when there are many users with sparse data (cold start problem for new users).\n",
    "\n",
    "---\n",
    "\n",
    "### 2. **Item-Based Collaborative Filtering**\n",
    "- **Idea**: Find items (anime) that are similar to the ones the target user has already liked, and recommend those.\n",
    "- **Example**:\n",
    "    - If \"Naruto\" and \"Bleach\" are rated similarly by many users, \n",
    "      and the target user liked \"Naruto\", then recommend \"Bleach\".\n",
    "- **Pros**:\n",
    "    - More stable than user-based because item similarities change less often than user similarities.\n",
    "- **Cons**:\n",
    "    - Still requires enough ratings to find item similarities.\n",
    "\n"
   ]
  },
  {
   "cell_type": "markdown",
   "id": "2928e8eb-30d7-472f-af7f-f89b0b3b7cd9",
   "metadata": {},
   "source": [
    "## Q2. What is Collaborative Filtering and How Does It Work?\n",
    "\n",
    "### **Definition**\n",
    "Collaborative Filtering (CF) is a recommendation technique that predicts a user's interests \n",
    "by collecting preferences or taste information from many users \n",
    "and finding patterns of similarity.\n",
    "\n",
    "The main idea: **\"People who agreed in the past will agree in the future.\"**\n",
    "\n",
    "---\n",
    "\n",
    "### **Works**\n",
    "1. **Collect Data**  \n",
    "   - Gather user–item interaction data (e.g., ratings, likes, watch history).\n",
    "   - Example: Users rating anime from 1–10.\n",
    "\n",
    "2. **Find Similarities**  \n",
    "   - Measure similarity between users (User-Based CF) or between items (Item-Based CF).\n",
    "   - Common similarity measures:  \n",
    "     - Cosine Similarity  \n",
    "     - Pearson Correlation\n",
    "\n",
    "3. **Generate Recommendations**  \n",
    "   - **User-Based CF**: Recommend items liked by similar users.  \n",
    "   - **Item-Based CF**: Recommend items similar to those the user liked.\n",
    "\n",
    "\n",
    "---\n",
    "\n",
    "### **Types of Collaborative Filtering**\n",
    "1. **User-Based CF** – Find similar users and recommend what they liked.  \n",
    "2. **Item-Based CF** – Find similar items and recommend items similar to those liked by the user.\n",
    "\n",
    "---\n",
    "\n",
    "### **Pros**\n",
    "- No need for item content or descriptions — works only with ratings/history.\n",
    "- Can discover surprising recommendations outside of the user's usual preferences.\n",
    "\n",
    "### **Cons**\n",
    "- Cold start problem: New users or new items have no rating history.\n",
    "- Sparse data can make finding similarities difficult.\n",
    "\n",
    "\n"
   ]
  },
  {
   "cell_type": "code",
   "execution_count": null,
   "id": "99754ca9-7a71-4761-9625-40a00d46b514",
   "metadata": {},
   "outputs": [],
   "source": []
  }
 ],
 "metadata": {
  "kernelspec": {
   "display_name": "Python 3 (ipykernel)",
   "language": "python",
   "name": "python3"
  },
  "language_info": {
   "codemirror_mode": {
    "name": "ipython",
    "version": 3
   },
   "file_extension": ".py",
   "mimetype": "text/x-python",
   "name": "python",
   "nbconvert_exporter": "python",
   "pygments_lexer": "ipython3",
   "version": "3.12.7"
  }
 },
 "nbformat": 4,
 "nbformat_minor": 5
}
